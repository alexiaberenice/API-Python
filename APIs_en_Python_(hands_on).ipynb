{
  "nbformat": 4,
  "nbformat_minor": 0,
  "metadata": {
    "colab": {
      "name": "Copia de APIs en Python (hands-on).ipynb",
      "provenance": [],
      "include_colab_link": true
    },
    "kernelspec": {
      "name": "python3",
      "display_name": "Python 3"
    },
    "language_info": {
      "name": "python"
    }
  },
  "cells": [
    {
      "cell_type": "markdown",
      "metadata": {
        "id": "view-in-github",
        "colab_type": "text"
      },
      "source": [
        "<a href=\"https://colab.research.google.com/github/alexiaberenice/API-Python/blob/main/APIs_en_Python_(hands_on).ipynb\" target=\"_parent\"><img src=\"https://colab.research.google.com/assets/colab-badge.svg\" alt=\"Open In Colab\"/></a>"
      ]
    },
    {
      "cell_type": "markdown",
      "source": [
        "# Tabla de contenidos\n",
        "\n",
        "\n",
        "\n",
        "* [1.  API intro](#1)\n",
        "\n",
        "* [2.  APIs en Python](#2)\n",
        "  * [2.1 Libreria Request en Python 🐍](#2.1)\n",
        "  * [2.2 Status Codes 🆘](#2.2)\n",
        "  * [2.3 Query parameters](#2.3)\n",
        "  * [2.4 JSON](#2.4)\n",
        "  * [2.5 Headers 👨](#2.5)\n",
        "  \n",
        "* [3 Challenge : Astros endpoint ⭐](#2.6)\n",
        "\n"
      ],
      "metadata": {
        "id": "-XyNUxjpCHe3"
      }
    },
    {
      "cell_type": "markdown",
      "source": [
        "<a id=\"1\"></a>\n",
        "\n",
        "# 1. API intro\n",
        "\n",
        "El uso de API para acceder a datos web es una habilidad común en el mundo del análisis y la ciencia de datos. Trabajar en este campo cada vez más popular y de altos ingresos requiere consultar y recuperar datos y, a menudo, integrarlos en sus propias aplicaciones.\n",
        "\n",
        "Una API es una colección de herramientas que permite que diferentes aplicaciones interactúen. Algunos de los nombres más importantes de la web (como Reddit, Spotify, Twitter y Facebook) ofrecen API gratuitas para que los datos valiosos de sus servidores estén disponibles. Otras empresas y servicios cobran por estas API.\n",
        "\n",
        "Aprender a trabajar con API lo preparará para trabajar en la recuperación y el análisis de datos para generar información y ayudar a realizar predicciones valiosas."
      ],
      "metadata": {
        "id": "KFYRxiV04Kqf"
      }
    },
    {
      "cell_type": "markdown",
      "source": [
        "Aquí hay algunos puntos que puede esperar de esta lección:\n",
        "- Las ventajas de las API\n",
        "- Cómo crear y procesar solicitudes de API\n",
        "- Cómo funciona el formato de datos JSON"
      ],
      "metadata": {
        "id": "9NbceNdZ_l9R"
      }
    },
    {
      "cell_type": "markdown",
      "source": [
        "<a id=\"2\"></a>\n",
        "\n",
        "# 2. APIs en Python\n",
        "\n",
        "Las organizaciones alojan sus API en servidores web. Cuando escribe *www.google.com* en la barra de direcciones de su navegador, su computadora en realidad está solicitando una página web al servidor de *www.google.com*; el servidor devuelve la página a su navegador.\n",
        "\n",
        "\n",
        "Las API funcionan de la misma manera, excepto que en lugar de que su navegador web solicite una página web, su programa solicita datos.\n",
        "\n",
        "La API generalmente devuelve estos datos en formato de notación de objetos de JavaScript (JSON). *Hablaremos de JSON más adelante en esta lección*.\n",
        "\n",
        "Hacemos una solicitud de API al servidor web con los datos que queremos. El servidor luego responde y nos lo envía. En Python, hacemos esto usando la biblioteca de `request`."
      ],
      "metadata": {
        "id": "e7AP55lVDGV-"
      }
    },
    {
      "cell_type": "markdown",
      "source": [
        "<a id=\"2.2\"></a>\n",
        "\n",
        "## 2.2 Libreria Request en Python 🐍\n",
        "\n",
        "Hay muchos tipos diferentes de solicitudes. La más común es una solicitud `GET`, que usamos para recuperar datos.\n",
        "\n",
        "Podemos usar una solicitud `GET` simple para recuperar información de la API de OpenNotify.\n",
        "\n",
        "OpenNotify tiene varios endpoints de API. Un endpoint es una ruta de servidor para recuperar datos específicos de una API. Por ejemplo, el endpoint `/comments` en la API de reddit podría recuperar información sobre los comentarios, mientras que el endpoint `/users` podría recuperar datos sobre los usuarios.\n",
        "\n",
        "El primer endpoint que veremos en OpenNotify es iss-now.json. Este endpoint obtiene la posición actual de latitud y longitud de la ISS. Un dataset no sería una buena herramienta para esta tarea porque la información cambia con frecuencia e implica algunos cálculos en el servidor.\n",
        "Consulte la lista completa de puntos finales de OpenNotify.\n",
        "\n",
        "\n",
        "Empezaremos importado `request`:"
      ],
      "metadata": {
        "id": "y3BHRkA3AnbW"
      }
    },
    {
      "cell_type": "code",
      "execution_count": null,
      "metadata": {
        "id": "sKSby1Vztpfl"
      },
      "outputs": [],
      "source": [
        "import requests"
      ]
    },
    {
      "cell_type": "code",
      "source": [
        "# Make a get request to get the latest position of the ISS from the OpenNotify API.\n",
        "response = requests.get(\"http://api.open-notify.org/iss-now.json\")"
      ],
      "metadata": {
        "id": "APOp1lcq0lym"
      },
      "execution_count": null,
      "outputs": []
    },
    {
      "cell_type": "code",
      "source": [
        ""
      ],
      "metadata": {
        "id": "dxEOdJL9XIqk",
        "outputId": "76833151-f437-4a93-af24-751006a4e70a",
        "colab": {
          "base_uri": "https://localhost:8080/",
          "height": 35
        }
      },
      "execution_count": null,
      "outputs": [
        {
          "output_type": "execute_result",
          "data": {
            "text/plain": [
              "'{\"iss_position\": {\"longitude\": \"116.5852\", \"latitude\": \"-33.4896\"}, \"timestamp\": 1654726097, \"message\": \"success\"}'"
            ],
            "application/vnd.google.colaboratory.intrinsic+json": {
              "type": "string"
            }
          },
          "metadata": {},
          "execution_count": 4
        }
      ]
    },
    {
      "cell_type": "markdown",
      "source": [
        "El servidor enviará un código de estado indicando el éxito o fracaso de su solicitud. Puede obtener el código de estado de la respuesta de response.status_code.\n",
        "\n",
        "Asigne el código de estado a la variable status_code."
      ],
      "metadata": {
        "id": "BToXIrzyCcqL"
      }
    },
    {
      "cell_type": "code",
      "source": [
        "# su respuesta aqui :\n"
      ],
      "metadata": {
        "id": "BRxSEhuZCbpY"
      },
      "execution_count": null,
      "outputs": []
    },
    {
      "cell_type": "markdown",
      "source": [
        "<a id=\"2.1\"></a>\n",
        "\n",
        "## 2.1 Status Codes 🆘\n",
        "\n",
        "La solicitud que acabamos de hacer devolvió un código de estado de `200`. Los servidores web devuelven códigos de estado cada vez que reciben una solicitud de API. Un código de estado informa lo que sucedió con una solicitud. Aquí hay algunos códigos que son relevantes para las solicitudes `GET`:\n",
        "\n",
        "- `200`: todo salió bien y el servidor devolvió un resultado (si lo hubo).\n",
        "\n",
        "- `301`: el servidor lo está redirigiendo a un punto final diferente. Esto puede suceder cuando una empresa cambia de nombre de dominio o cuando cambia el nombre de un punto final.\n",
        "\n",
        "- `401`: el servidor cree que no está autenticado. Esto sucede cuando no envía las credenciales correctas para acceder a una API.\n",
        "\n",
        "- `400`: el servidor cree que hiciste una solicitud incorrecta. Esto puede suceder cuando no envía la información que requiere la API para procesar su solicitud (entre otras cosas).\n",
        "\n",
        "- `403`: el recurso al que intenta acceder está prohibido y no tiene los permisos adecuados para verlo.\n",
        "404 — El servidor no encontró el recurso al que intentó acceder."
      ],
      "metadata": {
        "id": "U7YknUhJ4Vk3"
      }
    },
    {
      "cell_type": "markdown",
      "source": [
        "### Instrucciones\n",
        "1. Realice una solicitud GET a http://api.open-notify.org/iss-pass.\n",
        "\n",
        "2. Asigne el código de estado de la respuesta a status_code."
      ],
      "metadata": {
        "id": "swMD5XDwDuwl"
      }
    },
    {
      "cell_type": "code",
      "source": [
        "# su respuesta aqui\n"
      ],
      "metadata": {
        "id": "YM0FAf6mDpU-"
      },
      "execution_count": null,
      "outputs": []
    },
    {
      "cell_type": "markdown",
      "source": [
        "`iss-pass `no era un endpoint válido, por lo que el servidor de la API nos envió un código de estado `404` en respuesta. Olvidamos agregar `.json ` al final, como nos indica la documentación de la API."
      ],
      "metadata": {
        "id": "bQRY7_iLECHb"
      }
    },
    {
      "cell_type": "markdown",
      "source": [
        "### Instrucciones\n",
        "\n",
        "1. Realice una solicitud `GET` a http://api.open-notify.org/iss-pass.json.\n",
        "\n",
        "2. Asigne el código de estado de la respuesta a status_code."
      ],
      "metadata": {
        "id": "46u8kWtOEM-e"
      }
    },
    {
      "cell_type": "code",
      "source": [
        "# su respuesta aqui:\n",
        "\n"
      ],
      "metadata": {
        "id": "EMGXAMZ_EMhF"
      },
      "execution_count": null,
      "outputs": []
    },
    {
      "cell_type": "markdown",
      "source": [
        "<a id=\"2.3\"></a>\n",
        "\n",
        "## 2.3 Query parameters\n",
        "\n",
        "En el último ejemplo, obtuvimos un código de estado `400`, que indica una solicitud incorrecta. Si miramos la documentación de la API de OpenNotify, vemos que el endpoint de ISS Pass requiere **dos parámetros**.\n",
        "\n",
        "El endpoint de ISS Pass nos indica cuándo pasará la ISS sobre un lugar determinado de la Tierra.\n",
        "\n",
        "Para solicitar esta información, necesitamos pasar las coordenadas de una ubicación específica a la API. Hacemos esto pasando dos parámetros: `latitud y longitud.`"
      ],
      "metadata": {
        "id": "o4u-GlRdE6w9"
      }
    },
    {
      "cell_type": "markdown",
      "source": [
        "Para hacer esto, podemos agregar un argumento de palabra clave, `params`, a nuestra solicitud.\n",
        "\n",
        "En este caso, necesitamos pasar dos parámetros:\n",
        "\n",
        "\n",
        "```\n",
        "lat — la latitud de la ubicación\n",
        "lon - la longitud de la ubicación\n",
        "```\n",
        "\n",
        "\n",
        "Podemos crear un diccionario que contenga estos parámetros y luego pasarlos a la función.\n",
        "También podemos hacer lo mismo directamente agregando los parámetros de consulta a la url, así:\n",
        "\n",
        "\n",
        "\n",
        "[http://api.open-notify.org/iss-pass.json?lat=40.71&lon=-74](http://api.open-notify.org/iss-pass.json?lat=40.71&lon=-74\n",
        ")\n",
        "\n"
      ],
      "metadata": {
        "id": "D-owDlbuF_jy"
      }
    },
    {
      "cell_type": "markdown",
      "source": [
        "Casi siempre es mejor configurar los parámetros como un diccionario, porque la biblioteca `requests` que mencionamos anteriormente se ocupa de ciertos problemas, como formatear correctamente los parámetros de consulta."
      ],
      "metadata": {
        "id": "xoKJUxyXGQek"
      }
    },
    {
      "cell_type": "markdown",
      "source": [
        "### Instrucciones\n",
        "\n",
        "1. Utilice un diccionario y el argumento de los parámetros para obtener una respuesta para la latitud `37,78` y la longitud `-122,41` (las coordenadas de San Francisco).\n",
        "\n",
        "2. Recupere el contenido de la respuesta con response.content.\n",
        "\n",
        "3. Asigne el contenido a la variable `content`."
      ],
      "metadata": {
        "id": "Y-xuojz7GiX3"
      }
    },
    {
      "cell_type": "code",
      "source": [
        "\n",
        "# esta el la lat y lon de sinaloa\n",
        "parameters = {\"lat\": 27, \"lon\": -102}\n",
        "\n",
        "# hacer el request con los parametros\n",
        "response = requests.get(\"http://api.open-notify.org/iss-pass.json\", params=parameters)\n",
        "\n",
        "#imprimir el contenido de la respuesta (lo que el server contesto)\n",
        "print(response.content)\n",
        "\n",
        "#esto es lo mismo que el codigo de arriba\n",
        "response = requests.get(\"http://api.open-notify.org/iss-pass.json?lat=27&lon=-102\")\n",
        "print(response.content)"
      ],
      "metadata": {
        "colab": {
          "base_uri": "https://localhost:8080/"
        },
        "id": "NLp9hPb6Gh2P",
        "outputId": "7b488143-2743-4dfc-b139-55fd5d758443"
      },
      "execution_count": null,
      "outputs": [
        {
          "output_type": "stream",
          "name": "stdout",
          "text": [
            "b'{\\n  \"message\": \"success\", \\n  \"request\": {\\n    \"altitude\": 100, \\n    \"datetime\": 1647474177, \\n    \"latitude\": 37.0, \\n    \"longitude\": -3.0, \\n    \"passes\": 5\\n  }, \\n  \"response\": [\\n    {\\n      \"duration\": 471, \\n      \"risetime\": 1647474280\\n    }, \\n    {\\n      \"duration\": 585, \\n      \"risetime\": 1647480102\\n    }, \\n    {\\n      \"duration\": 654, \\n      \"risetime\": 1647485895\\n    }, \\n    {\\n      \"duration\": 442, \\n      \"risetime\": 1647491773\\n    }, \\n    {\\n      \"duration\": 524, \\n      \"risetime\": 1647540253\\n    }\\n  ]\\n}\\n'\n",
            "b'{\\n  \"message\": \"success\", \\n  \"request\": {\\n    \"altitude\": 100, \\n    \"datetime\": 1647474177, \\n    \"latitude\": 40.71, \\n    \"longitude\": -74.0, \\n    \"passes\": 5\\n  }, \\n  \"response\": [\\n    {\\n      \"duration\": 655, \\n      \"risetime\": 1647479194\\n    }, \\n    {\\n      \"duration\": 596, \\n      \"risetime\": 1647485059\\n    }, \\n    {\\n      \"duration\": 565, \\n      \"risetime\": 1647490943\\n    }, \\n    {\\n      \"duration\": 628, \\n      \"risetime\": 1647496770\\n    }, \\n    {\\n      \"duration\": 645, \\n      \"risetime\": 1647502576\\n    }\\n  ]\\n}\\n'\n"
          ]
        }
      ]
    },
    {
      "cell_type": "code",
      "source": [
        "# su respuesta aqui\n"
      ],
      "metadata": {
        "id": "7zYPyK-jPyZM"
      },
      "execution_count": null,
      "outputs": []
    },
    {
      "cell_type": "markdown",
      "source": [
        "<a id=\"2.4\"></a>\n",
        "\n",
        "## 2.4 JSON\n",
        "Es posible que haya notado que la respuesta de la API que recibimos anteriormente era un `string`. Las cadenas son la forma en que pasamos información de un lado a otro a través de las API, pero no es fácil obtener la información que queremos de ellas.\n",
        "\n",
        " ¿Cómo sabemos cómo decodificar la cadena que recibimos y trabajar con ella en Python?\n",
        "\n",
        "Afortunadamente, hay un formato llamado `JSON`. (Lo mencionamos anteriormente en esta lección). Este formato codifica estructuras de datos como listas y diccionarios como cadenas para garantizar que las máquinas puedan leerlas fácilmente. `JSON` es el formato principal para enviar y recibir datos a través de API."
      ],
      "metadata": {
        "id": "tW9zmw_5ITkn"
      }
    },
    {
      "cell_type": "markdown",
      "source": [
        "Python ofrece un gran soporte para `JSON` a través de su biblioteca `json`. Podemos convertir listas y diccionarios a `JSON` y viceversa. Nuestros datos de ISS Pass, por ejemplo, son un diccionario codificado como una cadena en formato `JSON`.\n",
        "\n",
        "La biblioteca `JSON` tiene dos métodos principales:\n",
        "\n",
        "- `dumps` — toma un objeto de Python y lo convierte en una cadena\n",
        "- `loads`: toma una cadena JSON y la convierte en un objeto de Python"
      ],
      "metadata": {
        "id": "9Ha5qK7EJAJK"
      }
    },
    {
      "cell_type": "code",
      "source": [
        "#lista de cadenas de comida rapida\n",
        "best_food_chains = [\"Taco Bell\", \"Shake Shack\", \"Chipotle\"]\n",
        "print(type(best_food_chains))\n",
        "\n",
        "# Importar json library\n",
        "import json\n",
        "\n",
        "#usa json.dumps para convertir best_food_chains a string\n",
        "best_food_chains_string = json.dumps(best_food_chains)\n",
        "print(type(best_food_chains_string))\n",
        "\n",
        "# convertir best_food_chains_string a lista\n",
        "print(type(json.loads(best_food_chains_string)))\n",
        "\n",
        "#crear un diccionario\n",
        "fast_food_franchise = {\n",
        "    \"Subway\": 24722,\n",
        "    \"McDonalds\": 14098,\n",
        "    \"Starbucks\": 10821,\n",
        "    \"Pizza Hut\": 7600\n",
        "}\n",
        "\n",
        "# We can also dump a dictionary to a string and load it.\n",
        "# tambien podemos dumpear el diccionario a un string y cargarlo\n",
        "fast_food_franchise_string = json.dumps(fast_food_franchise)\n",
        "print(type(fast_food_franchise_string))"
      ],
      "metadata": {
        "colab": {
          "base_uri": "https://localhost:8080/"
        },
        "id": "Eo-I_prHI-4d",
        "outputId": "252af652-b98e-4e27-d31c-e0a6586a38ec"
      },
      "execution_count": null,
      "outputs": [
        {
          "output_type": "stream",
          "name": "stdout",
          "text": [
            "<class 'list'>\n",
            "<class 'str'>\n",
            "<class 'list'>\n",
            "<class 'str'>\n"
          ]
        }
      ]
    },
    {
      "cell_type": "markdown",
      "source": [
        "### Instrucciones\n",
        "\n",
        "1. Utilice loads de la función JSON para convertir `fast_food_franchise_string` en un objeto de Python.\n",
        "\n",
        "2. Asigne el objeto Python resultante a `fast_food_franchise_2`."
      ],
      "metadata": {
        "id": "GWterv6dJnUP"
      }
    },
    {
      "cell_type": "code",
      "source": [
        "# tu respuesta aqui:\n"
      ],
      "metadata": {
        "id": "UlO0mOHMKfPa"
      },
      "execution_count": null,
      "outputs": []
    },
    {
      "cell_type": "markdown",
      "source": [
        "Podemos obtener el contenido de una respuesta como un objeto Python usando el método `.json()` en la respuesta."
      ],
      "metadata": {
        "id": "Wt9R7j9DLCab"
      }
    },
    {
      "cell_type": "code",
      "source": [
        "# Mismo request de ahce rato\n",
        "parameters = {\"lat\": 37.78, \"lon\": -122.41}\n",
        "response = requests.get(\"http://api.open-notify.org/iss-pass.json\", params=parameters)\n",
        "\n",
        "# obtener la respuesta en un objeto de python. (verificemos que es un diccionario)\n",
        "json_data = response.json()\n",
        "print(type(json_data))\n",
        "print(json_data)"
      ],
      "metadata": {
        "colab": {
          "base_uri": "https://localhost:8080/"
        },
        "id": "MoLdtXFNLFP1",
        "outputId": "3a626fd3-a7d1-41e6-9ee4-383cc13b0041"
      },
      "execution_count": null,
      "outputs": [
        {
          "output_type": "stream",
          "name": "stdout",
          "text": [
            "<class 'dict'>\n",
            "{'message': 'success', 'request': {'altitude': 100, 'datetime': 1647475218, 'latitude': 37.78, 'longitude': -122.41, 'passes': 5}, 'response': [{'duration': 573, 'risetime': 1647484550}, {'duration': 649, 'risetime': 1647490302}, {'duration': 550, 'risetime': 1647496198}, {'duration': 493, 'risetime': 1647502112}, {'duration': 589, 'risetime': 1647507940}]}\n"
          ]
        }
      ]
    },
    {
      "cell_type": "markdown",
      "source": [
        "### Instrucciones\n",
        "\n",
        "1. Obtenga el valor de duración del primer paso de la ISS sobre San Francisco y asígnele el valor a `first_pass_duration`."
      ],
      "metadata": {
        "id": "uGueTi3eLeal"
      }
    },
    {
      "cell_type": "code",
      "source": [
        "# su respuesta aqui\n"
      ],
      "metadata": {
        "id": "dqB-y_15Ldj5"
      },
      "execution_count": null,
      "outputs": []
    },
    {
      "cell_type": "markdown",
      "source": [
        "<a id=\"2.5\"></a>\n",
        "\n",
        "## 2.5 Headers 👨\n",
        "\n",
        "El servidor envía más que un código de estado y los datos cuando genera una respuesta. También envía metadatos con información sobre cómo generó los datos y cómo decodificarlos. Esta información aparece en los encabezados de respuesta. Podemos acceder a él usando la propiedad `.headers`.\n",
        "\n",
        "Los encabezados aparecerán como un diccionario. Por ahora, el `content-type` dentro de los encabezados es la clave más importante. Nos dice el formato de la respuesta y cómo decodificarla. Para la API de OpenNotify, el formato es `JSON`, por lo que pudimos decodificarlo con `JSON` antes."
      ],
      "metadata": {
        "id": "4H14CwTTL09W"
      }
    },
    {
      "cell_type": "code",
      "source": [
        "# Headers es un dict\n",
        "print(response.headers)"
      ],
      "metadata": {
        "colab": {
          "base_uri": "https://localhost:8080/"
        },
        "id": "egDLd6GUMjpF",
        "outputId": "3410f543-8683-423e-ffbd-2f191a04a941"
      },
      "execution_count": null,
      "outputs": [
        {
          "output_type": "stream",
          "name": "stdout",
          "text": [
            "{'Server': 'nginx/1.10.3', 'Date': 'Thu, 17 Mar 2022 00:00:18 GMT', 'Content-Type': 'application/json', 'Content-Length': '521', 'Connection': 'keep-alive', 'Via': '1.1 vegur'}\n"
          ]
        }
      ]
    },
    {
      "cell_type": "markdown",
      "source": [
        "## Instrucciones\n",
        "\n",
        "1. Obtenga el `content-type` de `response.headers`.\n",
        "\n",
        "Asigne el tipo de contenido a la variable `content_type`."
      ],
      "metadata": {
        "id": "pQY32zhAMrRS"
      }
    },
    {
      "cell_type": "code",
      "source": [
        "# su respuesta aqui\n"
      ],
      "metadata": {
        "id": "v2w7GkYRMquq"
      },
      "execution_count": null,
      "outputs": []
    },
    {
      "cell_type": "markdown",
      "source": [
        "<a id=\"3\"></a>\n",
        "\n",
        "# 3 Challenge : Astros endpoint ⭐\n",
        "\n",
        "\n",
        "OpenNotify tiene un endpoint más, `astros.json`. Nos dice cuántas personas hay actualmente en el espacio. Puede encontrar el formato de las response [aquí](http://open-notify.org/Open-Notify-API/People-In-Space/)  .\n",
        "\n",
        "\n"
      ],
      "metadata": {
        "id": "PSwdDgF6NXTN"
      }
    },
    {
      "cell_type": "markdown",
      "source": [
        "### Instrucciones\n",
        "\n",
        "1. Encuentra cuántas personas hay actualmente en el espacio.\n",
        "\n",
        "2. Asigne el resultado a `in_space_count`."
      ],
      "metadata": {
        "id": "BCa1kvn3N3DO"
      }
    },
    {
      "cell_type": "code",
      "source": [
        "# su respuesta aqui\n",
        "response = requests.get(\"http://api.open-notify.org/astros.json\")\n",
        "response"
      ],
      "metadata": {
        "id": "WJlgeAsFN1--",
        "colab": {
          "base_uri": "https://localhost:8080/"
        },
        "outputId": "8821eb16-a900-49b1-e409-088fa0db4c57"
      },
      "execution_count": null,
      "outputs": [
        {
          "output_type": "execute_result",
          "data": {
            "text/plain": [
              "<Response [200]>"
            ]
          },
          "metadata": {},
          "execution_count": 3
        }
      ]
    },
    {
      "cell_type": "code",
      "source": [
        "in_space_count "
      ],
      "metadata": {
        "id": "htA_DhZFxAIb"
      },
      "execution_count": null,
      "outputs": []
    }
  ]
}